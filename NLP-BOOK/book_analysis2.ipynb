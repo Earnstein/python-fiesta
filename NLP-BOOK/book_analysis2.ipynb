{
 "cells": [
  {
   "cell_type": "code",
   "execution_count": 5,
   "id": "452b0a1f-bb1b-4166-b577-7d1189ad6740",
   "metadata": {},
   "outputs": [],
   "source": [
    "import re\n",
    "from collections import Counter"
   ]
  },
  {
   "cell_type": "markdown",
   "id": "e6bd45e3-2951-4f64-83c9-c6cd0824e500",
   "metadata": {},
   "source": [
    "# Load the book"
   ]
  },
  {
   "cell_type": "code",
   "execution_count": 6,
   "id": "d963237a-833e-4f2a-b01b-6188c61b4079",
   "metadata": {},
   "outputs": [],
   "source": [
    "with open(\"miracle_in_the_andes.txt\", \"r\", encoding=\"utf-8\") as file:\n",
    "    book_content = file.read()"
   ]
  },
  {
   "cell_type": "markdown",
   "id": "7b0c38f4-9234-4206-a97f-4b0316886e97",
   "metadata": {},
   "source": [
    "# The most used words (non article)"
   ]
  },
  {
   "cell_type": "code",
   "execution_count": 8,
   "id": "8034b5eb-0ea7-4bc3-890f-17659202faac",
   "metadata": {},
   "outputs": [],
   "source": [
    "pattern = r\"[a-z]+\"\n",
    "all_words = re.findall(pattern, book_content.lower(), re.IGNORECASE)\n",
    "word_counts = Counter(all_words)\n",
    "# the top 10 most common words\n",
    "most_common = word_counts.most_common(10)\n",
    "words_and_their_frequecy = word_counts.most_common()"
   ]
  },
  {
   "cell_type": "code",
   "execution_count": 10,
   "id": "1a3ed493-9939-49b1-83e5-1c63166302ba",
   "metadata": {},
   "outputs": [
    {
     "data": {
      "text/plain": [
       "[('the', 5346),\n",
       " ('and', 2795),\n",
       " ('i', 2729),\n",
       " ('to', 2400),\n",
       " ('of', 2060),\n",
       " ('a', 1566),\n",
       " ('was', 1430),\n",
       " ('in', 1419),\n",
       " ('we', 1226),\n",
       " ('my', 1169)]"
      ]
     },
     "execution_count": 10,
     "metadata": {},
     "output_type": "execute_result"
    }
   ],
   "source": [
    "most_common"
   ]
  },
  {
   "cell_type": "code",
   "execution_count": 11,
   "id": "eaf31421-5d1d-4797-9afd-007c31f21cad",
   "metadata": {},
   "outputs": [
    {
     "data": {
      "text/plain": [
       "'3.10.6'"
      ]
     },
     "execution_count": 11,
     "metadata": {},
     "output_type": "execute_result"
    }
   ],
   "source": [
    "from  platform import python_version\n",
    "python_version()"
   ]
  },
  {
   "cell_type": "code",
   "execution_count": 2,
   "id": "ecf824ee-8c57-4f4e-9189-9365b7528ae0",
   "metadata": {},
   "outputs": [
    {
     "name": "stderr",
     "output_type": "stream",
     "text": [
      "[nltk_data] Downloading package stopwords to\n",
      "[nltk_data]     C:\\Users\\HP\\AppData\\Roaming\\nltk_data...\n",
      "[nltk_data]   Unzipping corpora\\stopwords.zip.\n"
     ]
    },
    {
     "data": {
      "text/plain": [
       "True"
      ]
     },
     "execution_count": 2,
     "metadata": {},
     "output_type": "execute_result"
    }
   ],
   "source": [
    "import nltk\n",
    "from nltk.corpus import stopwords\n",
    "nltk.download('stopwords')"
   ]
  },
  {
   "cell_type": "code",
   "execution_count": 23,
   "id": "82355be2-75fe-41ef-98ab-1ab866eb1bfd",
   "metadata": {},
   "outputs": [],
   "source": [
    "english_stopwords = stopwords.words(\"english\")"
   ]
  },
  {
   "cell_type": "code",
   "execution_count": 9,
   "id": "eb681a56-0d40-4040-975b-944b7e3b1bb5",
   "metadata": {},
   "outputs": [
    {
     "data": {
      "text/plain": [
       "6992"
      ]
     },
     "execution_count": 9,
     "metadata": {},
     "output_type": "execute_result"
    }
   ],
   "source": [
    "len(words_and_their_frequecy)"
   ]
  },
  {
   "cell_type": "code",
   "execution_count": 11,
   "id": "5a50d856-a184-4f07-97d3-ed3aa7ffd6e7",
   "metadata": {},
   "outputs": [
    {
     "data": {
      "text/plain": [
       "[('the', 5346), ('and', 2795), ('i', 2729), ('to', 2400)]"
      ]
     },
     "execution_count": 11,
     "metadata": {},
     "output_type": "execute_result"
    }
   ],
   "source": [
    "words_and_their_frequecy[0:4]"
   ]
  },
  {
   "cell_type": "code",
   "execution_count": 21,
   "id": "674ac99f-d2af-4d7d-8eba-10785a01fe38",
   "metadata": {},
   "outputs": [
    {
     "data": {
      "text/plain": [
       "[('the', 5346), ('and', 2795), ('i', 2729), ('to', 2400)]"
      ]
     },
     "execution_count": 21,
     "metadata": {},
     "output_type": "execute_result"
    }
   ],
   "source": [
    "frequency = lambda item: item[1]\n",
    "words_and_their_frequecy = sorted(words_and_their_frequecy, reverse=True, key=frequency)\n",
    "words_and_their_frequecy[:4]"
   ]
  },
  {
   "cell_type": "code",
   "execution_count": 24,
   "id": "61acdd89-a061-44c1-8d0f-be7d52759518",
   "metadata": {},
   "outputs": [],
   "source": [
    "## generic way of doing things\n",
    "# filtered_word = []\n",
    "# for word , count in words_and_their_frequecy:\n",
    "#     if word not in english_stopwords:\n",
    "#         filtered_word.append((word, count))"
   ]
  },
  {
   "cell_type": "code",
   "execution_count": 29,
   "id": "1e62d332-b7ca-451e-bb83-0f602153c581",
   "metadata": {},
   "outputs": [],
   "source": [
    "filtered_words = [(word, count) for word, count in words_and_their_frequecy if word not in english_stopwords]"
   ]
  },
  {
   "cell_type": "code",
   "execution_count": 32,
   "id": "0944ab15-c0cb-45f4-a579-05289d2ae9f7",
   "metadata": {},
   "outputs": [
    {
     "data": {
      "text/plain": [
       "6849"
      ]
     },
     "execution_count": 32,
     "metadata": {},
     "output_type": "execute_result"
    }
   ],
   "source": [
    "len(filtered_word)"
   ]
  },
  {
   "cell_type": "code",
   "execution_count": 34,
   "id": "321deeee-56b5-4330-8aec-75adb7fcd229",
   "metadata": {},
   "outputs": [
    {
     "data": {
      "text/plain": [
       "[('would', 575), ('us', 519), ('said', 292), ('roberto', 284), ('could', 252)]"
      ]
     },
     "execution_count": 34,
     "metadata": {},
     "output_type": "execute_result"
    }
   ],
   "source": [
    "filtered_word[:5]"
   ]
  },
  {
   "cell_type": "markdown",
   "id": "418b13bb-aad5-49bd-acbf-32d3b0c1bd2a",
   "metadata": {},
   "source": [
    "## Sentiment analysis: What is the most positive and most negative chapter?"
   ]
  },
  {
   "cell_type": "code",
   "execution_count": 41,
   "id": "22fa3243-4ce0-4e4a-88b6-91fc132c213b",
   "metadata": {},
   "outputs": [
    {
     "name": "stderr",
     "output_type": "stream",
     "text": [
      "[nltk_data] Downloading package vader_lexicon to\n",
      "[nltk_data]     C:\\Users\\HP\\AppData\\Roaming\\nltk_data...\n"
     ]
    },
    {
     "data": {
      "text/plain": [
       "True"
      ]
     },
     "execution_count": 41,
     "metadata": {},
     "output_type": "execute_result"
    }
   ],
   "source": [
    "from nltk.sentiment import SentimentIntensityAnalyzer\n",
    "nltk.download('vader_lexicon')"
   ]
  },
  {
   "cell_type": "code",
   "execution_count": 42,
   "id": "fb5ab8a4-34c9-43a8-85e3-f0f22c74780f",
   "metadata": {},
   "outputs": [
    {
     "data": {
      "text/plain": [
       "<nltk.sentiment.vader.SentimentIntensityAnalyzer at 0x2826241b310>"
      ]
     },
     "execution_count": 42,
     "metadata": {},
     "output_type": "execute_result"
    }
   ],
   "source": [
    "analyzer = SentimentIntensityAnalyzer()\n",
    "analyzer"
   ]
  },
  {
   "cell_type": "code",
   "execution_count": 44,
   "id": "fa70196b-cd58-4fb3-a0b5-39fb43a63bc4",
   "metadata": {},
   "outputs": [
    {
     "data": {
      "text/plain": [
       "nltk.sentiment.vader.SentimentIntensityAnalyzer"
      ]
     },
     "execution_count": 44,
     "metadata": {},
     "output_type": "execute_result"
    }
   ],
   "source": [
    "type(analyzer)"
   ]
  },
  {
   "cell_type": "code",
   "execution_count": 43,
   "id": "3ace4c7e-18a7-4762-abf4-7fdd0fc3e93d",
   "metadata": {},
   "outputs": [
    {
     "data": {
      "text/plain": [
       "['__class__',\n",
       " '__delattr__',\n",
       " '__dict__',\n",
       " '__dir__',\n",
       " '__doc__',\n",
       " '__eq__',\n",
       " '__format__',\n",
       " '__ge__',\n",
       " '__getattribute__',\n",
       " '__gt__',\n",
       " '__hash__',\n",
       " '__init__',\n",
       " '__init_subclass__',\n",
       " '__le__',\n",
       " '__lt__',\n",
       " '__module__',\n",
       " '__ne__',\n",
       " '__new__',\n",
       " '__reduce__',\n",
       " '__reduce_ex__',\n",
       " '__repr__',\n",
       " '__setattr__',\n",
       " '__sizeof__',\n",
       " '__str__',\n",
       " '__subclasshook__',\n",
       " '__weakref__',\n",
       " '_amplify_ep',\n",
       " '_amplify_qm',\n",
       " '_but_check',\n",
       " '_idioms_check',\n",
       " '_least_check',\n",
       " '_never_check',\n",
       " '_punctuation_emphasis',\n",
       " '_sift_sentiment_scores',\n",
       " 'constants',\n",
       " 'lexicon',\n",
       " 'lexicon_file',\n",
       " 'make_lex_dict',\n",
       " 'polarity_scores',\n",
       " 'score_valence',\n",
       " 'sentiment_valence']"
      ]
     },
     "execution_count": 43,
     "metadata": {},
     "output_type": "execute_result"
    }
   ],
   "source": [
    "dir(analyzer)"
   ]
  },
  {
   "cell_type": "code",
   "execution_count": 45,
   "id": "2c447318-30b3-4afa-a20a-a5ef3ff8263e",
   "metadata": {},
   "outputs": [
    {
     "name": "stdout",
     "output_type": "stream",
     "text": [
      "Help on method polarity_scores in module nltk.sentiment.vader:\n",
      "\n",
      "polarity_scores(text) method of nltk.sentiment.vader.SentimentIntensityAnalyzer instance\n",
      "    Return a float for sentiment strength based on the input text.\n",
      "    Positive values are positive valence, negative value are negative\n",
      "    valence.\n",
      "    \n",
      "    :note: Hashtags are not taken into consideration (e.g. #BAD is neutral). If you\n",
      "        are interested in processing the text in the hashtags too, then we recommend\n",
      "        preprocessing your data to remove the #, after which the hashtag text may be\n",
      "        matched as if it was a normal word in the sentence.\n",
      "\n"
     ]
    }
   ],
   "source": [
    "help(analyzer.polarity_scores)"
   ]
  },
  {
   "cell_type": "code",
   "execution_count": 72,
   "id": "eda54ee8-3a5e-4621-980e-1a2f14dce432",
   "metadata": {},
   "outputs": [
    {
     "name": "stdin",
     "output_type": "stream",
     "text": [
      " I love dogs, I love everyone, I am happy and rejoicing. I do not love cats.\n"
     ]
    }
   ],
   "source": [
    "a = input()"
   ]
  },
  {
   "cell_type": "code",
   "execution_count": 73,
   "id": "ebb8e873-e46c-4516-8edb-28645166d98b",
   "metadata": {},
   "outputs": [
    {
     "data": {
      "text/plain": [
       "{'neg': 0.0, 'neu': 0.258, 'pos': 0.742, 'compound': 0.9686}"
      ]
     },
     "execution_count": 73,
     "metadata": {},
     "output_type": "execute_result"
    }
   ],
   "source": [
    "scores = analyzer.polarity_scores(a)\n",
    "scores"
   ]
  },
  {
   "cell_type": "code",
   "execution_count": 101,
   "id": "212dc933-e0e7-4a96-8a77-c55ec04c139b",
   "metadata": {},
   "outputs": [],
   "source": [
    "def text_analyzer(text):\n",
    "    scores = analyzer.polarity_scores(text)\n",
    "    if scores[\"pos\"] > scores[\"neg\"]:\n",
    "        return(f\"It is a positive chapter, {scores}\")\n",
    "    elif scores[\"pos\"] < scores[\"neg\"]:\n",
    "        return(f\"It is a negative chapter, {scores}\")\n",
    "    else:\n",
    "        return(f\"It is a neutral chapter, {scores}\")"
   ]
  },
  {
   "cell_type": "markdown",
   "id": "a362ef7b-5797-47c1-82cb-bfe7a2b44c74",
   "metadata": {},
   "source": [
    "# Chapters sentiments analysis"
   ]
  },
  {
   "cell_type": "code",
   "execution_count": 89,
   "id": "fc6da23b-3799-4a7d-b303-d19f2063d9f8",
   "metadata": {},
   "outputs": [],
   "source": [
    "patterns = r\"Chapter [0-9]+\"\n",
    "chapters_paragraph = re.split(patterns, book_content)"
   ]
  },
  {
   "cell_type": "code",
   "execution_count": 90,
   "id": "ef33c859-bf61-417b-823d-5fcf582f60bb",
   "metadata": {},
   "outputs": [
    {
     "data": {
      "text/plain": [
       "11"
      ]
     },
     "execution_count": 90,
     "metadata": {},
     "output_type": "execute_result"
    }
   ],
   "source": [
    "len(chapters_paragraph)"
   ]
  },
  {
   "cell_type": "code",
   "execution_count": 91,
   "id": "1ae653d0-772e-40ae-8bcc-e2d5f8e692ec",
   "metadata": {},
   "outputs": [],
   "source": [
    "all_chapters_paragraph = chapters_paragraph[1:]"
   ]
  },
  {
   "cell_type": "code",
   "execution_count": 92,
   "id": "b6c99cb8-cbbb-40a0-9c3b-26fd7a4cd534",
   "metadata": {},
   "outputs": [
    {
     "data": {
      "text/plain": [
       "10"
      ]
     },
     "execution_count": 92,
     "metadata": {},
     "output_type": "execute_result"
    }
   ],
   "source": [
    "len(all_chapters_paragraph)"
   ]
  },
  {
   "cell_type": "code",
   "execution_count": 103,
   "id": "e42743ad-34ff-4534-be96-df5b0bb6786b",
   "metadata": {},
   "outputs": [
    {
     "name": "stdout",
     "output_type": "stream",
     "text": [
      "chapter 1, It is a positive chapter, {'neg': 0.061, 'neu': 0.779, 'pos': 0.16, 'compound': 1.0}\n",
      "chapter 2, It is a positive chapter, {'neg': 0.12, 'neu': 0.726, 'pos': 0.154, 'compound': 0.9991}\n",
      "chapter 3, It is a negative chapter, {'neg': 0.145, 'neu': 0.751, 'pos': 0.105, 'compound': -0.9999}\n",
      "chapter 4, It is a negative chapter, {'neg': 0.141, 'neu': 0.721, 'pos': 0.138, 'compound': -0.9963}\n",
      "chapter 5, It is a positive chapter, {'neg': 0.118, 'neu': 0.742, 'pos': 0.141, 'compound': 0.9997}\n",
      "chapter 6, It is a negative chapter, {'neg': 0.124, 'neu': 0.761, 'pos': 0.115, 'compound': -0.9979}\n",
      "chapter 7, It is a negative chapter, {'neg': 0.136, 'neu': 0.761, 'pos': 0.103, 'compound': -0.9999}\n",
      "chapter 8, It is a negative chapter, {'neg': 0.12, 'neu': 0.786, 'pos': 0.094, 'compound': -0.9998}\n",
      "chapter 9, It is a negative chapter, {'neg': 0.097, 'neu': 0.824, 'pos': 0.079, 'compound': -0.9996}\n",
      "chapter 10, It is a positive chapter, {'neg': 0.086, 'neu': 0.733, 'pos': 0.181, 'compound': 1.0}\n"
     ]
    }
   ],
   "source": [
    "for index, chapter in enumerate(all_chapters_paragraph):\n",
    "    print(f\"chapter {index+1}, {text_analyzer(chapter)}\")"
   ]
  },
  {
   "cell_type": "code",
   "execution_count": null,
   "id": "8d48ea51-0118-46c9-89f7-f6d12dce7c4b",
   "metadata": {},
   "outputs": [],
   "source": []
  }
 ],
 "metadata": {
  "kernelspec": {
   "display_name": "Python 3 (ipykernel)",
   "language": "python",
   "name": "python3"
  },
  "language_info": {
   "codemirror_mode": {
    "name": "ipython",
    "version": 3
   },
   "file_extension": ".py",
   "mimetype": "text/x-python",
   "name": "python",
   "nbconvert_exporter": "python",
   "pygments_lexer": "ipython3",
   "version": "3.10.6"
  }
 },
 "nbformat": 4,
 "nbformat_minor": 5
}
