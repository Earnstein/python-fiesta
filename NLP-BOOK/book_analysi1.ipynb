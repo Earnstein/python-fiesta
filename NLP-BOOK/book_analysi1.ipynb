{
 "cells": [
  {
   "cell_type": "code",
   "execution_count": 103,
   "id": "1cb60664-58bf-4a7c-914c-a02e3cc44529",
   "metadata": {},
   "outputs": [],
   "source": [
    "import re\n",
    "from collections import Counter"
   ]
  },
  {
   "cell_type": "markdown",
   "id": "f0315377-0df3-40ae-8910-d164c0373a29",
   "metadata": {},
   "source": [
    "# Load the book"
   ]
  },
  {
   "cell_type": "code",
   "execution_count": 117,
   "id": "b3e7a308-5476-42b7-a32f-181d1023814f",
   "metadata": {
    "scrolled": true
   },
   "outputs": [],
   "source": [
    "with open(\"miracle_in_the_andes.txt\", \"r\", encoding=\"utf-8\") as file:\n",
    "    book_content = file.read()"
   ]
  },
  {
   "cell_type": "markdown",
   "id": "ebea44e6-3569-4f61-b75c-056e69dbd135",
   "metadata": {
    "scrolled": true
   },
   "source": [
    "# Count number of chapter "
   ]
  },
  {
   "cell_type": "code",
   "execution_count": 118,
   "id": "bfae6659-4ae4-44e6-b990-8a7c5559f8a6",
   "metadata": {},
   "outputs": [
    {
     "data": {
      "text/plain": [
       "['Chapter 1',\n",
       " 'Chapter 2',\n",
       " 'Chapter 3',\n",
       " 'Chapter 4',\n",
       " 'Chapter 5',\n",
       " 'Chapter 6',\n",
       " 'Chapter 7',\n",
       " 'Chapter 8',\n",
       " 'Chapter 9',\n",
       " 'Chapter 10']"
      ]
     },
     "execution_count": 118,
     "metadata": {},
     "output_type": "execute_result"
    }
   ],
   "source": [
    "patterns = re.compile(\"Chapter [0-9]+\")\n",
    "findings = re.findall(patterns, book_content)\n",
    "findings"
   ]
  },
  {
   "cell_type": "code",
   "execution_count": 119,
   "id": "1393de08-1be7-4c5a-ad9b-0274d43052a6",
   "metadata": {},
   "outputs": [
    {
     "data": {
      "text/plain": [
       "10"
      ]
     },
     "execution_count": 119,
     "metadata": {},
     "output_type": "execute_result"
    }
   ],
   "source": [
    "total_num_of_book_chapter = len(findings)\n",
    "total_num_of_book_chapter"
   ]
  },
  {
   "cell_type": "markdown",
   "id": "dacfca3c-033e-413c-b023-0ccc3f310147",
   "metadata": {},
   "source": [
    "# Which are the sentences where \"love\" was used?"
   ]
  },
  {
   "cell_type": "code",
   "execution_count": 120,
   "id": "8e5ab1f1-97ee-49bf-9a2f-5410d126f197",
   "metadata": {},
   "outputs": [
    {
     "data": {
      "text/plain": [
       "70"
      ]
     },
     "execution_count": 120,
     "metadata": {},
     "output_type": "execute_result"
    }
   ],
   "source": [
    "pattern = r'[A-Z][^.!?]*\\blove\\b[^.!?]*[.!?]'\n",
    "findings = re.findall(pattern, book_content, re.IGNORECASE)\n",
    "len(findings)"
   ]
  },
  {
   "cell_type": "markdown",
   "id": "1776e754-d9e3-47f5-9326-4736d8b6f351",
   "metadata": {},
   "source": [
    "# what are the most used words"
   ]
  },
  {
   "cell_type": "code",
   "execution_count": 122,
   "id": "810f6461-a1fc-4511-a8af-c1e9362c2519",
   "metadata": {},
   "outputs": [],
   "source": [
    "pattern = r\"[a-z]+\"\n",
    "all_words = re.findall(pattern, book_content.lower(), re.IGNORECASE)\n",
    "word_counts = Counter(all_words)\n",
    "# the top 10 most common words\n",
    "most_common = word_counts.most_common(10)"
   ]
  },
  {
   "cell_type": "code",
   "execution_count": 109,
   "id": "4ab62cbc-bfa2-454e-8a7f-cbae6add962b",
   "metadata": {},
   "outputs": [
    {
     "data": {
      "text/plain": [
       "[('the', 5346),\n",
       " ('and', 2795),\n",
       " ('i', 2729),\n",
       " ('to', 2400),\n",
       " ('of', 2060),\n",
       " ('a', 1566),\n",
       " ('was', 1430),\n",
       " ('in', 1419),\n",
       " ('we', 1226),\n",
       " ('my', 1169)]"
      ]
     },
     "execution_count": 109,
     "metadata": {},
     "output_type": "execute_result"
    }
   ],
   "source": [
    "most_common"
   ]
  },
  {
   "cell_type": "code",
   "execution_count": 110,
   "id": "17ea53b4-5945-43be-891e-59bf14be40df",
   "metadata": {},
   "outputs": [
    {
     "data": {
      "text/plain": [
       "list"
      ]
     },
     "execution_count": 110,
     "metadata": {},
     "output_type": "execute_result"
    }
   ],
   "source": [
    "type(most_common)"
   ]
  },
  {
   "cell_type": "code",
   "execution_count": 111,
   "id": "99fd6d8e-dc7f-4009-b8fa-b62712f87c27",
   "metadata": {},
   "outputs": [
    {
     "data": {
      "text/plain": [
       "{'the': 5346,\n",
       " 'and': 2795,\n",
       " 'i': 2729,\n",
       " 'to': 2400,\n",
       " 'of': 2060,\n",
       " 'a': 1566,\n",
       " 'was': 1430,\n",
       " 'in': 1419,\n",
       " 'we': 1226,\n",
       " 'my': 1169}"
      ]
     },
     "execution_count": 111,
     "metadata": {},
     "output_type": "execute_result"
    }
   ],
   "source": [
    "dictionary = {item[0]: item[1] for item in most_common}\n",
    "dictionary"
   ]
  },
  {
   "cell_type": "code",
   "execution_count": 113,
   "id": "5115cf4d-c2b3-41c8-b022-d1497d2813a6",
   "metadata": {},
   "outputs": [
    {
     "data": {
      "text/plain": [
       "['To me, this is the essence of rugby. No other sport gives you such an intense sense of selflessness and unified purpose. I believe this is why rugby players all over the world feel such a passion for the game and such a feeling of brotherhood. As a young man, of course, I could not put these things into words, but I knew, and my teammates knew, that there was something special about the game, and under the guidance of the Christian Brothers we developed a passionate love for the sport that shaped our friendships and our lives. For eight years we played our hearts out for the Christian Brothers—a brotherhood of young boys with Latin names, playing a game with deep Anglo roots under Uruguay’s sunny skies, and proudly wearing the bright green shamrock on our uniforms. The game became so much a part of our lives, in fact, that when we graduated from Stella Maris at the age of sixteen, many of us could not bear the thought that our playing days were over. Our salvation came in the form of the Old Christians Club, a private rugby team formed in 1965 by previous alumni of the Stella Maris rugby program to give Stella Maris ruggers a chance to continue playing the game after our school years ended.',\n",
       " 'There were others—Alexis Hounie, Gastón Costemalle, Daniel Shaw—all of them great players and all of them my friends. But my oldest friend was Guido Magri. He and I had met on my first day at the Stella Maris School—I was eight years old and Guido was one year older—and we had been inseparable ever since. Guido and I grew up together, playing soccer and sharing a love of motorcycles, cars, and auto racing. When I was fifteen we both had mopeds that we had modified in silly ways—removing the mufflers, turn signals, and fenders—and we would ride them to Las Delicias, a famous ice cream parlor in our neighborhood, where we would drool over the girls from the nearby School Sagrado Corazón, hoping to impress them with our souped-up scooters. Guido was a dependable friend, with a good sense of humor and an easy laugh. He was also an outstanding scrum half, as quick and smart as a fox, with good hands and great courage. Under the guidance of the Christian Brothers, both of us grew to love the game of rugby with a consuming passion. As seasons passed we worked hard to improve our skills, and by the time I was fifteen we had each earned a spot on the Stella Maris First XV, the team’s starting lineup. After graduation, both of us went on to join the Old Christians and spent several happy seasons pursuing the high-octane social life of young rugby players. That rowdiness came to an abrupt end for Guido in 1969, when he met and fell in love with the beautiful daughter of a Chilean diplomat. She was now his fiancée, and he was happy to behave himself for her sake.']"
      ]
     },
     "execution_count": 113,
     "metadata": {},
     "output_type": "execute_result"
    }
   ],
   "source": [
    "love_paragraph_pattern = r\"[^\\n]+love[^\\n]+\"\n",
    "findings = re.findall(love_paragraph_pattern, book_content, re.IGNORECASE)\n",
    "findings[:2]"
   ]
  },
  {
   "cell_type": "code",
   "execution_count": null,
   "id": "c32d7a84-e35a-429c-8526-7fb06beb1be4",
   "metadata": {},
   "outputs": [],
   "source": []
  },
  {
   "cell_type": "code",
   "execution_count": null,
   "id": "9a914063-5196-4494-b276-4ab48395885e",
   "metadata": {},
   "outputs": [],
   "source": []
  }
 ],
 "metadata": {
  "kernelspec": {
   "display_name": "Python 3 (ipykernel)",
   "language": "python",
   "name": "python3"
  },
  "language_info": {
   "codemirror_mode": {
    "name": "ipython",
    "version": 3
   },
   "file_extension": ".py",
   "mimetype": "text/x-python",
   "name": "python",
   "nbconvert_exporter": "python",
   "pygments_lexer": "ipython3",
   "version": "3.10.6"
  }
 },
 "nbformat": 4,
 "nbformat_minor": 5
}
